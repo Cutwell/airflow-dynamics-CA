{
 "cells": [
  {
   "cell_type": "code",
   "execution_count": 3,
   "metadata": {},
   "outputs": [],
   "source": [
    "import cellpylib as cpl\n",
    "import numpy as np\n",
    "from airpressure import AirflowRule\n",
    "np.random.seed(0)   # make results reproducible"
   ]
  },
  {
   "cell_type": "markdown",
   "metadata": {},
   "source": [
    "1. Define a simple enclosed space"
   ]
  },
  {
   "cell_type": "code",
   "execution_count": null,
   "metadata": {},
   "outputs": [],
   "source": [
    "cellular_automaton = cpl.init_simple2d(10, 10)\n",
    "\n",
    "# set positive and negative air sources\n",
    "cellular_automaton[:, [0], [1]] = 10000\n",
    "cellular_automaton[:, [8], [9]] = -10000\n",
    "\n",
    "matrix = [\n",
    "    [1, 2, 1, 1, 1, 1, 1, 1, 1, 1],\n",
    "    [1, 0, 0, 0, 0, 0, 0, 0, 0, 1],\n",
    "    [1, 0, 0, 0, 1, 0, 0, 0, 0, 1],\n",
    "    [1, 0, 0, 0, 1, 0, 0, 0, 0, 1],\n",
    "    [1, 0, 1, 1, 1, 1, 1, 1, 0, 1],\n",
    "    [1, 0, 0, 0, 0, 0, 0, 0, 0, 1],\n",
    "    [1, 0, 0, 0, 0, 0, 0, 0, 0, 1],\n",
    "    [1, 0, 0, 0, 1, 0, 0, 0, 0, 1],\n",
    "    [1, 0, 0, 0, 1, 0, 0, 0, 0, 2],\n",
    "    [1, 1, 1, 1, 1, 1, 1, 1, 1, 1],\n",
    "]\n"
   ]
  },
  {
   "cell_type": "markdown",
   "metadata": {},
   "source": [
    "2. Evolve using custom ruleset, until stable."
   ]
  },
  {
   "cell_type": "code",
   "execution_count": null,
   "metadata": {},
   "outputs": [],
   "source": [
    "ca = cpl.evolve2d(cellular_automaton, timesteps=cpl.until_fixed_point(), apply_rule=AirflowRule(matrix), neighbourhood=\"Moore\")"
   ]
  },
  {
   "cell_type": "markdown",
   "metadata": {},
   "source": [
    "3. Log number of iterations to reach stability.\n",
    "4. Render animation of evolution."
   ]
  },
  {
   "cell_type": "code",
   "execution_count": null,
   "metadata": {},
   "outputs": [],
   "source": [
    "print(\"Number of timesteps to reach fixed point: %s\" % len(ca))\n",
    "cpl.plot2d_animate(ca)"
   ]
  }
 ],
 "metadata": {
  "kernelspec": {
   "display_name": "Python 3.9.12 ('base')",
   "language": "python",
   "name": "python3"
  },
  "language_info": {
   "codemirror_mode": {
    "name": "ipython",
    "version": 3
   },
   "file_extension": ".py",
   "mimetype": "text/x-python",
   "name": "python",
   "nbconvert_exporter": "python",
   "pygments_lexer": "ipython3",
   "version": "3.9.12"
  },
  "orig_nbformat": 4,
  "vscode": {
   "interpreter": {
    "hash": "40d3a090f54c6569ab1632332b64b2c03c39dcf918b08424e98f38b5ae0af88f"
   }
  }
 },
 "nbformat": 4,
 "nbformat_minor": 2
}
